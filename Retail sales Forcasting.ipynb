{
 "cells": [
  {
   "cell_type": "markdown",
   "id": "bc24724b-215e-47dc-8bd3-fe01175ff81f",
   "metadata": {},
   "source": [
    "# "
   ]
  },
  {
   "cell_type": "code",
   "execution_count": null,
   "id": "3b46bf5f-a549-4b82-b543-eec9e7257f19",
   "metadata": {},
   "outputs": [],
   "source": [
    "import pandas as pd\n",
    "import matplotlib.pyplot as plt\n",
    "import seaborn as sns\n",
    "import numpy as np\n",
    "\n",
    "print(\"Library installed\")"
   ]
  },
  {
   "cell_type": "code",
   "execution_count": null,
   "id": "13c477a8-25d1-44b6-bced-8cd0f7e6ff84",
   "metadata": {},
   "outputs": [],
   "source": [
    "df = pd.read_csv(\"retail_store.csv\")\n",
    "print(\"Data Loaded\")"
   ]
  },
  {
   "cell_type": "code",
   "execution_count": null,
   "id": "e3081d2b-0996-419d-b63f-2af18ff40f43",
   "metadata": {},
   "outputs": [],
   "source": [
    "df['Date'] = pd.to_datetime(df['Date'], errors='coerce')\n"
   ]
  },
  {
   "cell_type": "code",
   "execution_count": null,
   "id": "3da89263-9107-4c74-a8e8-bb864b4250b9",
   "metadata": {},
   "outputs": [],
   "source": [
    "df['Date'] = pd.to_datetime(df['Date'],format= \"%Y-%m-%d %H: %M:%S\")"
   ]
  },
  {
   "cell_type": "code",
   "execution_count": null,
   "id": "2f3946ed-836f-4e36-ba88-396f260e8511",
   "metadata": {},
   "outputs": [],
   "source": [
    "print(df['Date'].dtype)\n"
   ]
  },
  {
   "cell_type": "code",
   "execution_count": null,
   "id": "5024b455-dc26-48fb-9b02-9600d3e639d3",
   "metadata": {},
   "outputs": [],
   "source": [
    "df.head()"
   ]
  },
  {
   "cell_type": "code",
   "execution_count": null,
   "id": "b90339f4-3024-4ee3-90ef-1b4227935f74",
   "metadata": {},
   "outputs": [],
   "source": [
    "print(\"\\nMissing values per column\")\n",
    "print(df.isnull().sum())"
   ]
  },
  {
   "cell_type": "markdown",
   "id": "f0414ff6-a44d-42e7-86ea-9b643aa7a979",
   "metadata": {},
   "source": [
    "# *Overall Sales trend*"
   ]
  },
  {
   "cell_type": "code",
   "execution_count": null,
   "id": "5382b8f1-0cd3-4b1f-ac89-42a4addb4360",
   "metadata": {},
   "outputs": [],
   "source": [
    "daily_sales = df.groupby('Date')['Units Sold'].sum().reset_index()\n"
   ]
  },
  {
   "cell_type": "code",
   "execution_count": null,
   "id": "6e7cabee-185e-4e2f-8bae-38babddbfff1",
   "metadata": {},
   "outputs": [],
   "source": [
    "plt.figure(figsize=(12,6))\n",
    "plt.plot(daily_sales['Date'],daily_sales['Units Sold'], color='blue', alpha=0.6, label=\"Daily Sales\")\n",
    "plt.xlabel(\"Date\")\n",
    "plt.ylabel(\"Units Sold\")\n",
    "plt.title(\"Daily Total Units Sold Over Time\")\n",
    "plt.legend()\n",
    "plt.show()\n"
   ]
  },
  {
   "cell_type": "markdown",
   "id": "d8473619-2f6d-4d67-a32c-33d8320bd68c",
   "metadata": {},
   "source": [
    "# BAR CHART "
   ]
  },
  {
   "cell_type": "code",
   "execution_count": null,
   "id": "ff282b44-9ada-4c83-827e-059388969654",
   "metadata": {},
   "outputs": [],
   "source": [
    "plt.figure(figsize=(12,6))\n",
    "plt.bar(daily_sales['Date'],daily_sales['Units Sold'])\n",
    "plt.xlabel(\"Date\")\n",
    "plt.ylabel(\"Units Sold\")\n",
    "plt.title(\"Daily Total Units Sold Over Time\")\n",
    "plt.show()\n"
   ]
  },
  {
   "cell_type": "markdown",
   "id": "85d541ab-5a88-4204-acdf-60b0a733f32a",
   "metadata": {},
   "source": [
    "# *Sales by Seasonality and promotions*\n"
   ]
  },
  {
   "cell_type": "markdown",
   "id": "8c5de5dd-13f9-448a-a9d0-c2e69b1d2b2e",
   "metadata": {},
   "source": [
    "# *-------Montly Sales------*"
   ]
  },
  {
   "cell_type": "code",
   "execution_count": null,
   "id": "ca8bdafd-79fe-4610-baeb-67c549b09fb2",
   "metadata": {},
   "outputs": [],
   "source": [
    "df['Month']= df['Date'].dt.month\n",
    "monthly_sales= df.groupby('Month')['Units Sold'].sum().reset_index()\n",
    "\n",
    "plt.figure(figsize=(8,4))\n",
    "sns.barplot(data = monthly_sales, x= 'Month',y= 'Units Sold', palette = \"viridis\")\n",
    "plt.title(\"Total Units Sold over months\")\n",
    "plt.show()\n",
    "\n"
   ]
  },
  {
   "cell_type": "markdown",
   "id": "b0910188-b222-4cd6-bd86-b1e83e3f8431",
   "metadata": {},
   "source": [
    "# *Sales by Holidays/Promotion*"
   ]
  },
  {
   "cell_type": "code",
   "execution_count": null,
   "id": "4c999971-c2dd-450f-92d7-92b7802d117d",
   "metadata": {},
   "outputs": [],
   "source": [
    "promo_sales = df.groupby('Holiday/Promotion')['Units Sold'].mean().reset_index()\n",
    "\n",
    "plt.figure(figsize=(4,4))\n",
    "sns.barplot(data=promo_sales, x='Holiday/Promotion', y='Units Sold', palette=\"Set2\")\n",
    "plt.title(\"Average Units Sold: Promotion vs Non-Promotion\")\n",
    "plt.xticks([0,1], [\"No Promo\",\"Promo\"])\n",
    "plt.show()"
   ]
  },
  {
   "cell_type": "markdown",
   "id": "6849072d-591d-4d03-af40-204208d7b4f9",
   "metadata": {},
   "source": [
    "# *Region and Category*"
   ]
  },
  {
   "cell_type": "code",
   "execution_count": null,
   "id": "b156be55-5c2b-4d93-ba12-03bd2c2d1f01",
   "metadata": {},
   "outputs": [],
   "source": [
    "region_sales = df.groupby('Region')['Units Sold'].sum().sort_values(ascending=False)\n",
    "\n",
    "plt.figure(figsize=(6,4))\n",
    "sns.barplot(x=region_sales.index, y=region_sales.values, palette=\"mako\")\n",
    "plt.title(\"Total Units Sold by Region\")\n",
    "plt.xticks(rotation=45)\n",
    "plt.show()\n",
    "\n",
    "category_sales = df.groupby('Category')['Units Sold'].sum().sort_values(ascending=False)\n",
    "\n",
    "plt.figure(figsize=(8,4))\n",
    "sns.barplot(x=category_sales.index, y=category_sales.values, palette=\"Set2\")\n",
    "plt.title(\"Total Units Sold by Category\")\n",
    "plt.xticks(rotation=45)\n",
    "plt.show()"
   ]
  },
  {
   "cell_type": "markdown",
   "id": "2f34c1a2-2f1a-4248-a398-fc9844809fdc",
   "metadata": {},
   "source": [
    "# *Data Preprossesing*"
   ]
  },
  {
   "cell_type": "markdown",
   "id": "9c700a02-04ca-43e7-9ddb-9a38668ac816",
   "metadata": {},
   "source": [
    "# 5.1 Handle Missing Values\n",
    "# Fill numeric with 0 or mean, categorical with mode"
   ]
  },
  {
   "cell_type": "code",
   "execution_count": null,
   "id": "751da25d-c9ee-430a-a01b-0d638fed0d8a",
   "metadata": {},
   "outputs": [],
   "source": [
    "df['Units Sold'] = df['Units Sold'].fillna(0)\n",
    "df['Price'] = df['Price'].fillna(df['Price'].mean())\n",
    "df['Discount'] = df['Discount'].fillna(0)\n",
    "df['Competitor Pricing'] = df['Competitor Pricing'].fillna(df['Competitor Pricing'].mean())\n",
    "\n",
    "df['Region'] = df['Region'].fillna(df['Region'].mode()[0])\n",
    "df['Category'] = df['Category'].fillna(df['Category'].mode()[0])\n",
    "\n",
    "print(\"It working\")\n"
   ]
  },
  {
   "cell_type": "markdown",
   "id": "2b6b723c-61f7-4dae-9314-1205d3440c2c",
   "metadata": {},
   "source": [
    "# **Feature Engineering**"
   ]
  },
  {
   "cell_type": "raw",
   "id": "17d16f26-50e9-408c-9f93-39799a2b3f74",
   "metadata": {},
   "source": [
    "# From date\n",
    "Since sales have strong seasonality & trends, we extract from Date:\n",
    "Weekdays = 0 & Weekend = 1"
   ]
  },
  {
   "cell_type": "code",
   "execution_count": null,
   "id": "f4313dfd-0758-4bb0-bdc5-c1299070f877",
   "metadata": {},
   "outputs": [],
   "source": [
    "# Step 3: Feature Engineering\n",
    "# ===============================\n",
    "\n",
    "import numpy as np\n",
    "\n",
    "# Extract Date parts\n",
    "df['Day'] = df['Date'].dt.day\n",
    "df['Week'] = df['Date'].dt.isocalendar().week.astype(int)\n",
    "df['Month'] = df['Date'].dt.month\n",
    "df['Year'] = df['Date'].dt.year\n",
    "df['DayOfWeek'] = df['Date'].dt.dayofweek\n",
    "df['IsWeekend'] = df['DayOfWeek'].isin([5,6]).astype(int)\n",
    "\n",
    "# Extra Features\n",
    "if 'Price' in df.columns and 'Discount' in df.columns:\n",
    "    # Simulate competitor pricing (if missing)\n",
    "    if 'Competitor Pricing' not in df.columns:\n",
    "        df['Competitor Pricing'] = df['Price'] * (1 + np.random.uniform(-0.1,0.1,len(df)))\n",
    "    \n",
    "    df['Price_Diff'] = df['Price'] - df['Competitor Pricing']\n",
    "    df['Discount_Flag'] = (df['Discount'] > 0).astype(int)\n",
    "\n",
    "\n",
    "\n",
    "\n",
    "# Lag features (previous sales)\n",
    "df['Lag_1'] = df['Units Sold'].shift(1)\n",
    "df['Lag_7'] = df['Units Sold'].shift(7)\n",
    "df['Lag_30'] = df['Units Sold'].shift(30)\n",
    "\n",
    "# Rolling averages\n",
    "df['Roll_7'] = df['Units Sold'].rolling(7).mean()\n",
    "df['Roll_30'] = df['Units Sold'].rolling(30).mean()\n",
    "df['Roll_7_STD'] = df['Units Sold'].rolling(7).std()\n",
    "\n",
    "\n",
    "# Drop NA rows created by lags/rolling\n",
    "df = df.dropna()\n",
    "\n",
    "print(\"✅ Feature Engineering Completed\")\n",
    "print(df.head())\n"
   ]
  },
  {
   "cell_type": "code",
   "execution_count": null,
   "id": "cc2fe8bf-6cbd-4ecd-b366-eb0de764c8d4",
   "metadata": {},
   "outputs": [],
   "source": [
    "df = df.dropna()\n"
   ]
  },
  {
   "cell_type": "markdown",
   "id": "9cd146fb-484c-42e8-8651-c03fad396a83",
   "metadata": {},
   "source": [
    "# **Train/ Test/ Validate**"
   ]
  },
  {
   "cell_type": "code",
   "execution_count": null,
   "id": "9e380c9d-e4c3-46ba-8c6b-87d6bc069ce1",
   "metadata": {},
   "outputs": [],
   "source": [
    "# Clean column names\n",
    "df.columns = df.columns.str.strip()\n",
    "print(df.columns)   # Check again\n",
    "\n"
   ]
  },
  {
   "cell_type": "code",
   "execution_count": null,
   "id": "2aa9750f-24aa-4ffd-86a8-fe07b3a0d027",
   "metadata": {},
   "outputs": [],
   "source": [
    "# ===============================\n",
    "# Step 5: Feature Engineering & Data Split\n",
    "# ===============================\n",
    "\n",
    "from sklearn.preprocessing import LabelEncoder\n",
    "import pandas as pd\n",
    "\n",
    "# Load your data\n",
    "df = pd.read_csv(\"retail_store.csv\")\n",
    "\n",
    "# 1. Make sure Date is datetime\n",
    "df['Date'] = pd.to_datetime(df['Date'])\n",
    "\n",
    "# 2. Sort by Date (important for time series)\n",
    "df = df.sort_values('Date')\n",
    "\n",
    "# 3. Drop IDs (not useful for forecasting)\n",
    "df = df.drop(columns=['Store ID','Product ID'])\n",
    "\n",
    "# 4. Encode categorical columns\n",
    "cat_cols = ['Category', 'Region', 'Holiday/Promotion','Seasonality']\n",
    "encoder = LabelEncoder()\n",
    "for col in cat_cols:\n",
    "    df[col] = encoder.fit_transform(df[col].astype(str))\n",
    "\n",
    "# 5. Create time-based features\n",
    "df['Day'] = df['Date'].dt.day\n",
    "df['Week'] = df['Date'].dt.isocalendar().week\n",
    "df['Month'] = df['Date'].dt.month\n",
    "df['Year'] = df['Date'].dt.year\n",
    "df['DayOfWeek'] = df['Date'].dt.dayofweek\n",
    "df['IsWeekend'] = df['DayOfWeek'].isin([5,6]).astype(int)\n",
    "\n",
    "# 6. Lag features (past sales)\n",
    "df['Lag_1'] = df['Units Sold'].shift(1)\n",
    "df['Lag_7'] = df['Units Sold'].shift(7)\n",
    "df['Lag_30'] = df['Units Sold'].shift(30)\n",
    "\n",
    "# 7. Rolling statistics\n",
    "df['Roll_7'] = df['Units Sold'].rolling(7).mean()\n",
    "df['Roll_30'] = df['Units Sold'].rolling(30).mean()\n",
    "df['Roll_7_STD'] = df['Units Sold'].rolling(7).std()\n",
    "\n",
    "\n",
    "# 8. Drop NaN (caused by lag/rolling)\n",
    "df = df.dropna()\n",
    "\n",
    "df['Price_Diff'] = df['Price'] - df['Competitor_Pricing']\n",
    "\n",
    "df['Discount_Flag'] = df['Discount'].apply(lambda x: 1 if x > 0 else 0)\n",
    "# 9. Define features & target\n",
    "feature_cols = [\n",
    "    'Price','Discount','Competitor Pricing','Price_Diff', 'Discount_Flag',\n",
    "    'Day','Week','Month','Year','DayOfWeek','IsWeekend',\n",
    "    'Lag_1','Lag_7','Lag_30','Roll_7','Roll_30','Roll_7_STD',\n",
    "    'Category','Region','Holiday/Promotion','Seasonality'\n",
    "]\n",
    "target_col = 'Units Sold'\n",
    "\n",
    "# 10. Train/Validation/Test split (time-based)\n",
    "train_size = int(0.7 * len(df))\n",
    "valid_size = int(0.15 * len(df))\n",
    "\n",
    "train = df.iloc[:train_size]\n",
    "valid = df.iloc[train_size:train_size+valid_size]\n",
    "test = df.iloc[train_size+valid_size:]\n",
    "\n",
    "X_train, y_train = train[feature_cols], train[target_col]\n",
    "X_valid, y_valid = valid[feature_cols], valid[target_col]\n",
    "X_test, y_test = test[feature_cols], test[target_col]\n",
    "\n",
    "print(\"✅ Step 5 Done:\")\n",
    "print(\"Train:\", X_train.shape, \"Valid:\", X_valid.shape, \"Test:\", X_test.shape)\n"
   ]
  },
  {
   "cell_type": "code",
   "execution_count": null,
   "id": "de8cca57-3bcd-45cf-a34d-d3ad814f20de",
   "metadata": {},
   "outputs": [],
   "source": [
    "# ===============================\n",
    "# Step 5 + Step 6: Feature Engineering, Data Split, and Modeling\n",
    "# ===============================\n",
    "\n",
    "import numpy as np\n",
    "import matplotlib.pyplot as plt\n",
    "from sklearn.linear_model import LinearRegression\n",
    "from sklearn.ensemble import RandomForestRegressor\n",
    "from xgboost import XGBRegressor\n",
    "from sklearn.metrics import mean_squared_error, mean_absolute_error\n",
    "\n",
    "%matplotlib inline\n",
    "\n",
    "# ---- Step 5: Feature Engineering ----\n",
    "# Make sure Date is datetime\n",
    "df['Date'] = pd.to_datetime(df['Date'])\n",
    "\n",
    "# Sort by Date (important for time-series)\n",
    "df = df.sort_values('Date')\n",
    "\n",
    "# Create Price Difference column\n",
    "df['Price_Diff'] = df['Price'] - df['Competitor_Pricing']\n",
    "\n",
    "# Create Discount Flag column\n",
    "df['Discount_Flag'] = df['Discount'].apply(lambda x: 1 if x > 0 else 0)\n",
    "\n",
    "# Extract useful date features\n",
    "df['Year'] = df['Date'].dt.year\n",
    "df['Month'] = df['Date'].dt.month\n",
    "df['DayOfWeek'] = df['Date'].dt.dayofweek\n",
    "df['IsWeekend'] = df['DayOfWeek'].apply(lambda x: 1 if x >= 5 else 0)\n",
    "\n",
    "# Define features and target\n",
    "feature_cols = ['Price', 'Competitor_Pricing', 'Discount', \n",
    "                'Price_Diff', 'Discount_Flag', \n",
    "                'Year', 'Month', 'DayOfWeek', 'IsWeekend']\n",
    "target_col = 'Units_Sold'\n",
    "\n",
    "# Time-based split\n",
    "cutoff_valid = df['Date'].quantile(0.8)   # 80% train\n",
    "cutoff_test = df['Date'].quantile(0.9)    # 10% final test\n",
    "\n",
    "train = df[df['Date'] < cutoff_valid]\n",
    "valid = df[(df['Date'] >= cutoff_valid) & (df['Date'] < cutoff_test)]\n",
    "test  = df[df['Date'] >= cutoff_test]\n",
    "\n",
    "X_train, y_train = train[feature_cols], train[target_col]\n",
    "X_valid, y_valid = valid[feature_cols], valid[target_col]\n",
    "X_test, y_test   = test[feature_cols], test[target_col]\n",
    "\n",
    "print(\"Shapes:\")\n",
    "print(\"Train:\", X_train.shape, y_train.shape)\n",
    "print(\"Valid:\", X_valid.shape, y_valid.shape)\n",
    "print(\"Test:\", X_test.shape, y_test.shape)\n",
    "\n",
    "\n",
    "# ---- Step 6: Modeling ----\n",
    "def evaluate_model(model, X_train, y_train, X_valid, y_valid):\n",
    "    model.fit(X_train, y_train)\n",
    "    preds = model.predict(X_valid)\n",
    "    rmse = mean_squared_error(y_valid, preds, squared=False)  # RMSE\n",
    "    mae = mean_absolute_error(y_valid, preds)                # MAE\n",
    "    return rmse, mae, preds\n",
    "\n",
    "# Store results\n",
    "results = {}\n",
    "predictions = {}\n",
    "\n",
    "# 1. Linear Regression\n",
    "lr = LinearRegression()\n",
    "rmse, mae, preds_lr = evaluate_model(lr, X_train, y_train, X_valid, y_valid)\n",
    "results['Linear Regression'] = {'RMSE': rmse, 'MAE': mae}\n",
    "predictions['Linear Regression'] = preds_lr\n",
    "\n",
    "# 2. Random Forest\n",
    "rf = RandomForestRegressor(n_estimators=100, random_state=42)\n",
    "rmse, mae, preds_rf = evaluate_model(rf, X_train, y_train, X_valid, y_valid)\n",
    "results['Random Forest'] = {'RMSE': rmse, 'MAE': mae}\n",
    "predictions['Random Forest'] = preds_rf\n",
    "\n",
    "# 3. XGBoost\n",
    "xgb = XGBRegressor(n_estimators=200, learning_rate=0.1, random_state=42, objective='reg:squarederror')\n",
    "rmse, mae, preds_xgb = evaluate_model(xgb, X_train, y_train, X_valid, y_valid)\n",
    "results['XGBoost'] = {'RMSE': rmse, 'MAE': mae}\n",
    "predictions['XGBoost'] = preds_xgb\n",
    "\n",
    "# ---- Show results ----\n",
    "print(\"\\n=== Model Evaluation Results ===\")\n",
    "for model, metrics in results.items():\n",
    "    print(f\"{model}: RMSE={metrics['RMSE']:.2f}, MAE={metrics['MAE']:.2f}\")\n"
   ]
  },
  {
   "cell_type": "markdown",
   "id": "822853df-3ef4-4451-b49c-0e1ce023a1f4",
   "metadata": {},
   "source": [
    "# Features for modeling"
   ]
  },
  {
   "cell_type": "code",
   "execution_count": null,
   "id": "bf28cb17-040a-497f-bb87-921258f304b2",
   "metadata": {},
   "outputs": [],
   "source": [
    "print(\"Train columns:\", train.columns.tolist())\n",
    "print(\"Valid columns:\", valid.columns.tolist())\n",
    "print(\"Test columns:\", test.columns.tolist())\n"
   ]
  },
  {
   "cell_type": "code",
   "execution_count": null,
   "id": "e40011dd-77d2-4e89-a18e-e14569741e2d",
   "metadata": {},
   "outputs": [],
   "source": [
    "missing = [col for col in feature_cols if col not in train.columns]\n",
    "print(\"Missing features:\", missing)\n",
    "\n"
   ]
  },
  {
   "cell_type": "code",
   "execution_count": null,
   "id": "e061173d-a410-4384-9bcc-b99528ce6982",
   "metadata": {},
   "outputs": [],
   "source": [
    "feature_cols = [col for col in feature_cols if col in train.columns]\n",
    "\n",
    "X_train, y_train = train[feature_cols], train[target_col]\n",
    "X_valid, y_valid = valid[feature_cols], valid[target_col]\n",
    "X_test,  y_test  = test[feature_cols],  test[target_col]\n"
   ]
  },
  {
   "cell_type": "code",
   "execution_count": null,
   "id": "ebb7a803-eed5-4968-95a7-18d0362bac64",
   "metadata": {},
   "outputs": [],
   "source": [
    "feature_cols = [\n",
    "    'Price','Discount','Competitor Pricing','Price_Diff','Discount_Flag',\n",
    "    'Day','Week','Month','Year','DayOfWeek','IsWeekend',\n",
    "    'Lag_1','Lag_7','Lag_30','Roll_7','Roll_30','Roll_7_STD',\n",
    "    'Holiday/Promotion','Seasonality'\n",
    "]\n",
    "\n",
    "target_col = 'Units Sold'\n",
    "\n",
    "\n"
   ]
  },
  {
   "cell_type": "code",
   "execution_count": null,
   "id": "cd21bb33-3029-466b-8b1d-e05240a03cfd",
   "metadata": {},
   "outputs": [],
   "source": [
    "print(\"Train shape:\", X_train.shape)\n",
    "print(\"Valid shape:\", X_valid.shape)\n",
    "print(\"Test shape:\", X_test.shape)"
   ]
  },
  {
   "cell_type": "markdown",
   "id": "b18c4305-cf3c-4b68-b991-5d7923dd882f",
   "metadata": {},
   "source": [
    "# Model Training and Evalution"
   ]
  },
  {
   "cell_type": "code",
   "execution_count": null,
   "id": "53f5b1f8-d16e-4ad9-9fcb-c6c8bc07cd01",
   "metadata": {},
   "outputs": [],
   "source": [
    "from sklearn.linear_model import LinearRegression\n",
    "from sklearn.ensemble import RandomForestRegressor\n",
    "from xgboost import XGBRegressor\n",
    "from sklearn.metrics import mean_squared_error, mean_absolute_error\n",
    "import numpy as np\n",
    "import matplotlib.pyplot as plt\n",
    "\n",
    "%matplotlib inline\n",
    "\n",
    "\n",
    "print(\"Library loaded\")"
   ]
  },
  {
   "cell_type": "raw",
   "id": "29f3c6b0-4077-45ed-935c-02242993c939",
   "metadata": {},
   "source": [
    "# Mae= Mean Absolute error\n",
    " rmse= Root mean square error"
   ]
  },
  {
   "cell_type": "code",
   "execution_count": null,
   "id": "5759e016-6dfc-4a07-b3c2-29353a4950d3",
   "metadata": {},
   "outputs": [],
   "source": [
    "# function to train and evaluate\n",
    "def evaluate_model(model, X_train, y_train, X_valid, y_valid):\n",
    "    model.fit(X_train, y_train) # Train model\n",
    "    y_valid_preds = model.predict(X_valid)\n",
    "    preds = model.predict(X_valid,y_valid)    # Make predictions on validation data\n",
    "    rmse = np.sqrt(mean_squared_error(y_valid, y_valid_preds))  # Root Mean Square Error\n",
    "    mae = mean_absolute_error(y_valid,y_valid_preds)           # Mean Absolute Error\n",
    "    return rmse, mae, preds\n",
    "\n",
    "results = {}\n",
    "predictions = {}\n",
    "\n",
    "#For Linear Regression\n",
    "rmse_lr= np.sqrt(mean_squared_error(y_valid, preds))\n",
    "mae_lr = mean_absolute_error(y_valid,preds)\n",
    "\n",
    "# lr = LinearRegression()\n",
    "# rmse, mae, preds_lr = evaluate_model(lr, X_train, y_train, X_valid, y_valid)\n",
    "# results['Linear Regression'] = {'RMSE': rmse, 'MAE': mae}\n",
    "# predictions['Linear Regression'] = preds_lr\n",
    "\n",
    "#rmse_lr, mar_lr, y_valid_preds= evaluate_model(model, X_train, y_train,X_valid, y_valid)\n",
    "\n",
    "\n",
    "print(\"Linear Regreessions RMSE:\",rmse_lr, \"And MAE: \",mae_lr)"
   ]
  },
  {
   "cell_type": "code",
   "execution_count": null,
   "id": "ba6aa667-e8bf-4ad0-8c58-fccec8a3ba9a",
   "metadata": {},
   "outputs": [],
   "source": [
    "print(X_train.shape, y_train.shape)\n",
    "print(X_valid.shape, y_valid.shape)\n"
   ]
  },
  {
   "cell_type": "code",
   "execution_count": null,
   "id": "ebf422e3-8c7a-4ffc-9ed9-d05d3fe20e82",
   "metadata": {},
   "outputs": [],
   "source": [
    "# ===============================\n",
    "# Step 6: Model Training & Evaluation\n",
    "# ===============================\n",
    "\n",
    "from sklearn.linear_model import LinearRegression\n",
    "from sklearn.ensemble import RandomForestRegressor\n",
    "from xgboost import XGBRegressor\n",
    "from sklearn.metrics import mean_squared_error, mean_absolute_error\n",
    "import numpy as np\n",
    "import matplotlib.pyplot as plt\n",
    "\n",
    "%matplotlib inline\n",
    "\n",
    "# Helper function to train & evaluate\n",
    "def evaluate_model(model, X_train, y_train, X_valid, y_valid):\n",
    "    model.fit(X_train, y_train)\n",
    "    preds = model.predict(X_valid)\n",
    "    rmse = np.sqrt(mean_squared_error(y_valid, preds))\n",
    "    mae = mean_absolute_error(y_valid, preds)\n",
    "    return rmse, mae, preds\n",
    "\n",
    "# Dictionary to store results\n",
    "results = {}\n",
    "predictions = {}\n",
    "\n",
    "# 1. Linear Regression\n",
    "lr = LinearRegression()\n",
    "rmse, mae, preds_lr = evaluate_model(lr, X_train, y_train, X_valid, y_valid)\n",
    "results['Linear Regression'] = {'RMSE': rmse, 'MAE': mae}\n",
    "predictions['Linear Regression'] = preds_lr\n",
    "\n",
    "# 2. Random Forest\n",
    "rf = RandomForestRegressor(n_estimators=100, random_state=42)\n",
    "rmse, mae, preds_rf = evaluate_model(rf, X_train, y_train, X_valid, y_valid)\n",
    "results['Random Forest'] = {'RMSE': rmse, 'MAE': mae}\n",
    "predictions['Random Forest'] = preds_rf\n",
    "\n",
    "# 3. XGBoost\n",
    "xgb = XGBRegressor(n_estimators=200, learning_rate=0.1, random_state=42, objective='reg:squarederror')\n",
    "rmse, mae, preds_xgb = evaluate_model(xgb, X_train, y_train, X_valid, y_valid)\n",
    "results['XGBoost'] = {'RMSE': rmse, 'MAE': mae}\n",
    "predictions['XGBoost'] = preds_xgb\n",
    "\n",
    "# Show results\n",
    "print(\"\\n=== Model Evaluation Results ===\")\n",
    "for model, metrics in results.items():\n",
    "    print(f\"{model}: RMSE={metrics['RMSE']:.2f}, MAE={metrics['MAE']:.2f}\")\n",
    "\n",
    "# Visualization (Actual vs Predicted)\n",
    "def plot_predictions(y_valid, preds, title):\n",
    "    plt.figure(figsize=(10,5))\n",
    "    plt.plot(y_valid.values[:50], label=\"Actual\", marker='o')\n",
    "    plt.plot(preds[:50], label=\"Predicted\", marker='x')\n",
    "    plt.title(title)\n",
    "    plt.xlabel(\"Time Steps (sampled)\")\n",
    "    plt.ylabel(\"Units Sold\")\n",
    "    plt.legend()\n",
    "    plt.show()\n",
    "\n",
    "# Plot for each model\n",
    "plot_predictions(y_valid, preds_lr, \"Linear Regression - Actual vs Predicted\")\n",
    "plot_predictions(y_valid, preds_rf, \"Random Forest - Actual vs Predicted\")\n",
    "plot_predictions(y_valid, preds_xgb, \"XGBoost - Actual vs Predicted\")\n",
    "\n",
    "print(results)\n",
    "\n",
    "best_model = min(results, key=lambda x: results[x]['RMSE'])\n",
    "print(f\"\\n✅ Best Model: {best_model} with RMSE = {results[best_model]['RMSE']:.2f} and MAE = {results[best_model]['MAE']:.2f}\")"
   ]
  },
  {
   "cell_type": "code",
   "execution_count": null,
   "id": "de57c4f7-f1ac-4e73-bb1e-e24b458008fa",
   "metadata": {},
   "outputs": [],
   "source": [
    "# Step 7: Final Testing on Unseen Data \n",
    "\n",
    "# ⏳ Split last 2 months as \"Test\"\n",
    "cutoff_test = df['Date'].max() - pd.Timedelta(days=60)\n",
    "\n",
    "train_valid = df[df['Date'] < cutoff_test]\n",
    "test = df[df['Date'] >= cutoff_test]\n",
    "\n",
    "X_train_valid = train_valid[feature_cols]\n",
    "y_train_valid = train_valid[target_col]\n",
    "X_test = test[feature_cols]\n",
    "y_test = test[target_col]\n",
    "\n",
    "# 🔥 Retrain the BEST model (Linear Regression) on Train+Valid\n",
    "best_model = LinearRegression()\n",
    "best_model.fit(X_train_valid, y_train_valid)\n",
    "\n",
    "# Predictions on Test Set\n",
    "preds_test = best_model.predict(X_test)\n",
    "\n",
    "# 📊 Evaluation Metrics\n",
    "rmse_test = np.sqrt(mean_squared_error(y_test, preds_test))\n",
    "mae_test = mean_absolute_error(y_test, preds_test)\n",
    "\n",
    "print(\"=== Final Test Evaluation (Unseen Data - Linear Regression) ===\")\n",
    "print(f\"RMSE: {rmse_test:.2f}, MAE: {mae_test:.2f}\")\n",
    "\n",
    "# 📉 Plot Actual vs Predicted\n",
    "plt.figure(figsize=(10,5))\n",
    "plt.plot(y_test.values, label=\"Actual\", marker='o')\n",
    "plt.plot(preds_test, label=\"Predicted\", marker='x')\n",
    "plt.title(\"Linear Regression - Final Test Performance (Unseen Data)\")\n",
    "plt.xlabel(\"Time Steps (sampled)\")\n",
    "plt.ylabel(\"Units Sold\")\n",
    "plt.legend()\n",
    "plt.show()\n"
   ]
  },
  {
   "cell_type": "code",
   "execution_count": null,
   "id": "0e7d4ec9-241a-4558-b74b-2fc2e7a2052a",
   "metadata": {},
   "outputs": [],
   "source": []
  },
  {
   "cell_type": "code",
   "execution_count": null,
   "id": "a237f1eb-377e-4a03-bfc8-987642db3277",
   "metadata": {},
   "outputs": [],
   "source": []
  }
 ],
 "metadata": {
  "kernelspec": {
   "display_name": "Python 3 (ipykernel)",
   "language": "python",
   "name": "python3"
  },
  "language_info": {
   "codemirror_mode": {
    "name": "ipython",
    "version": 3
   },
   "file_extension": ".py",
   "mimetype": "text/x-python",
   "name": "python",
   "nbconvert_exporter": "python",
   "pygments_lexer": "ipython3",
   "version": "3.10.9"
  }
 },
 "nbformat": 4,
 "nbformat_minor": 5
}
